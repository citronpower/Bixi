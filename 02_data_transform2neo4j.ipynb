{
 "cells": [
  {
   "cell_type": "code",
   "execution_count": 1,
   "metadata": {},
   "outputs": [],
   "source": [
    "import numpy as np\n",
    "import pandas as pd\n",
    "import os"
   ]
  },
  {
   "cell_type": "code",
   "execution_count": null,
   "metadata": {},
   "outputs": [],
   "source": [
    "data_folder = '../Data'\n",
    "\n",
    "time_aggregation = 30 # time in minutes. Use -1 to disable the time aggregation"
   ]
  },
  {
   "cell_type": "code",
   "execution_count": 2,
   "metadata": {},
   "outputs": [
    {
     "data": {
      "text/html": [
       "<div>\n",
       "<style scoped>\n",
       "    .dataframe tbody tr th:only-of-type {\n",
       "        vertical-align: middle;\n",
       "    }\n",
       "\n",
       "    .dataframe tbody tr th {\n",
       "        vertical-align: top;\n",
       "    }\n",
       "\n",
       "    .dataframe thead th {\n",
       "        text-align: right;\n",
       "    }\n",
       "</style>\n",
       "<table border=\"1\" class=\"dataframe\">\n",
       "  <thead>\n",
       "    <tr style=\"text-align: right;\">\n",
       "      <th></th>\n",
       "      <th>STARTSTATIONNAME</th>\n",
       "      <th>STARTSTATIONARRONDISSEMENT</th>\n",
       "      <th>STARTSTATIONLATITUDE</th>\n",
       "      <th>STARTSTATIONLONGITUDE</th>\n",
       "      <th>ENDSTATIONNAME</th>\n",
       "      <th>ENDSTATIONARRONDISSEMENT</th>\n",
       "      <th>ENDSTATIONLATITUDE</th>\n",
       "      <th>ENDSTATIONLONGITUDE</th>\n",
       "      <th>STARTTIMEMS</th>\n",
       "      <th>ENDTIMEMS</th>\n",
       "    </tr>\n",
       "  </thead>\n",
       "  <tbody>\n",
       "    <tr>\n",
       "      <th>0</th>\n",
       "      <td>Métro Mont-Royal (Utilités publiques / Rivard)</td>\n",
       "      <td>Le Plateau-Mont-Royal</td>\n",
       "      <td>45.524236</td>\n",
       "      <td>-73.581552</td>\n",
       "      <td>Chabot / Mont-Royal</td>\n",
       "      <td>Le Plateau-Mont-Royal</td>\n",
       "      <td>45.534134</td>\n",
       "      <td>-73.573524</td>\n",
       "      <td>1698266696468</td>\n",
       "      <td>1.698267e+12</td>\n",
       "    </tr>\n",
       "    <tr>\n",
       "      <th>1</th>\n",
       "      <td>Rielle / Wellington</td>\n",
       "      <td>Verdun</td>\n",
       "      <td>45.460156</td>\n",
       "      <td>-73.567001</td>\n",
       "      <td>St-Jacques / McGill</td>\n",
       "      <td>Ville-Marie</td>\n",
       "      <td>45.501441</td>\n",
       "      <td>-73.560144</td>\n",
       "      <td>1698270535502</td>\n",
       "      <td>1.698272e+12</td>\n",
       "    </tr>\n",
       "    <tr>\n",
       "      <th>2</th>\n",
       "      <td>Ste-Catherine / Drummond</td>\n",
       "      <td>Ville-Marie</td>\n",
       "      <td>45.498588</td>\n",
       "      <td>-73.574278</td>\n",
       "      <td>Peel / Ottawa</td>\n",
       "      <td>Le Sud-Ouest</td>\n",
       "      <td>45.494200</td>\n",
       "      <td>-73.559985</td>\n",
       "      <td>1698285705974</td>\n",
       "      <td>1.698286e+12</td>\n",
       "    </tr>\n",
       "    <tr>\n",
       "      <th>3</th>\n",
       "      <td>Boyer / du Mont-Royal</td>\n",
       "      <td>Le Plateau-Mont-Royal</td>\n",
       "      <td>45.527432</td>\n",
       "      <td>-73.579917</td>\n",
       "      <td>de l'Hôtel-de-Ville / Rachel</td>\n",
       "      <td>Le Plateau-Mont-Royal</td>\n",
       "      <td>45.519897</td>\n",
       "      <td>-73.580106</td>\n",
       "      <td>1698269489932</td>\n",
       "      <td>1.698270e+12</td>\n",
       "    </tr>\n",
       "    <tr>\n",
       "      <th>4</th>\n",
       "      <td>Clark / Ontario</td>\n",
       "      <td>Ville-Marie</td>\n",
       "      <td>45.510625</td>\n",
       "      <td>-73.566903</td>\n",
       "      <td>Wolfe / Robin</td>\n",
       "      <td>Ville-Marie</td>\n",
       "      <td>45.519581</td>\n",
       "      <td>-73.560116</td>\n",
       "      <td>1698270006571</td>\n",
       "      <td>1.698270e+12</td>\n",
       "    </tr>\n",
       "  </tbody>\n",
       "</table>\n",
       "</div>"
      ],
      "text/plain": [
       "                                 STARTSTATIONNAME STARTSTATIONARRONDISSEMENT  \\\n",
       "0  Métro Mont-Royal (Utilités publiques / Rivard)      Le Plateau-Mont-Royal   \n",
       "1                             Rielle / Wellington                     Verdun   \n",
       "2                        Ste-Catherine / Drummond                Ville-Marie   \n",
       "3                           Boyer / du Mont-Royal      Le Plateau-Mont-Royal   \n",
       "4                                 Clark / Ontario                Ville-Marie   \n",
       "\n",
       "   STARTSTATIONLATITUDE  STARTSTATIONLONGITUDE                ENDSTATIONNAME  \\\n",
       "0             45.524236             -73.581552           Chabot / Mont-Royal   \n",
       "1             45.460156             -73.567001           St-Jacques / McGill   \n",
       "2             45.498588             -73.574278                 Peel / Ottawa   \n",
       "3             45.527432             -73.579917  de l'Hôtel-de-Ville / Rachel   \n",
       "4             45.510625             -73.566903                 Wolfe / Robin   \n",
       "\n",
       "  ENDSTATIONARRONDISSEMENT  ENDSTATIONLATITUDE  ENDSTATIONLONGITUDE  \\\n",
       "0    Le Plateau-Mont-Royal           45.534134           -73.573524   \n",
       "1              Ville-Marie           45.501441           -73.560144   \n",
       "2             Le Sud-Ouest           45.494200           -73.559985   \n",
       "3    Le Plateau-Mont-Royal           45.519897           -73.580106   \n",
       "4              Ville-Marie           45.519581           -73.560116   \n",
       "\n",
       "     STARTTIMEMS     ENDTIMEMS  \n",
       "0  1698266696468  1.698267e+12  \n",
       "1  1698270535502  1.698272e+12  \n",
       "2  1698285705974  1.698286e+12  \n",
       "3  1698269489932  1.698270e+12  \n",
       "4  1698270006571  1.698270e+12  "
      ]
     },
     "execution_count": 2,
     "metadata": {},
     "output_type": "execute_result"
    }
   ],
   "source": [
    "dtype_dict = {\n",
    "    'STARTTIMEMS': int,\n",
    "    'ENDTIMEMS': int\n",
    "}\n",
    "\n",
    "df = pd.read_csv(f'{data_folder}/2023.csv')#.dropna().astype(dtype_dict)\n",
    "df.head()"
   ]
  },
  {
   "cell_type": "markdown",
   "metadata": {},
   "source": [
    "Extract and format nodes"
   ]
  },
  {
   "cell_type": "code",
   "execution_count": 3,
   "metadata": {},
   "outputs": [
    {
     "data": {
      "text/html": [
       "<div>\n",
       "<style scoped>\n",
       "    .dataframe tbody tr th:only-of-type {\n",
       "        vertical-align: middle;\n",
       "    }\n",
       "\n",
       "    .dataframe tbody tr th {\n",
       "        vertical-align: top;\n",
       "    }\n",
       "\n",
       "    .dataframe thead th {\n",
       "        text-align: right;\n",
       "    }\n",
       "</style>\n",
       "<table border=\"1\" class=\"dataframe\">\n",
       "  <thead>\n",
       "    <tr style=\"text-align: right;\">\n",
       "      <th></th>\n",
       "      <th>name</th>\n",
       "      <th>latitude:float</th>\n",
       "      <th>longitude:float</th>\n",
       "    </tr>\n",
       "  </thead>\n",
       "  <tbody>\n",
       "    <tr>\n",
       "      <th>0</th>\n",
       "      <td>Métro Mont-Royal (Utilités publiques / Rivard)</td>\n",
       "      <td>45.524236</td>\n",
       "      <td>-73.581552</td>\n",
       "    </tr>\n",
       "    <tr>\n",
       "      <th>1</th>\n",
       "      <td>Rielle / Wellington</td>\n",
       "      <td>45.460156</td>\n",
       "      <td>-73.567001</td>\n",
       "    </tr>\n",
       "    <tr>\n",
       "      <th>2</th>\n",
       "      <td>Ste-Catherine / Drummond</td>\n",
       "      <td>45.498588</td>\n",
       "      <td>-73.574278</td>\n",
       "    </tr>\n",
       "    <tr>\n",
       "      <th>3</th>\n",
       "      <td>Boyer / du Mont-Royal</td>\n",
       "      <td>45.527432</td>\n",
       "      <td>-73.579917</td>\n",
       "    </tr>\n",
       "    <tr>\n",
       "      <th>4</th>\n",
       "      <td>Clark / Ontario</td>\n",
       "      <td>45.510625</td>\n",
       "      <td>-73.566903</td>\n",
       "    </tr>\n",
       "  </tbody>\n",
       "</table>\n",
       "</div>"
      ],
      "text/plain": [
       "                                             name  latitude:float  \\\n",
       "0  Métro Mont-Royal (Utilités publiques / Rivard)       45.524236   \n",
       "1                             Rielle / Wellington       45.460156   \n",
       "2                        Ste-Catherine / Drummond       45.498588   \n",
       "3                           Boyer / du Mont-Royal       45.527432   \n",
       "4                                 Clark / Ontario       45.510625   \n",
       "\n",
       "   longitude:float  \n",
       "0       -73.581552  \n",
       "1       -73.567001  \n",
       "2       -73.574278  \n",
       "3       -73.579917  \n",
       "4       -73.566903  "
      ]
     },
     "execution_count": 3,
     "metadata": {},
     "output_type": "execute_result"
    }
   ],
   "source": [
    "df_start = df[['STARTSTATIONNAME', 'STARTSTATIONLATITUDE', 'STARTSTATIONLONGITUDE']].rename(columns={'STARTSTATIONNAME': 'name',\n",
    "                                                                                                     'STARTSTATIONLATITUDE': 'latitude:float',\n",
    "                                                                                                     'STARTSTATIONLONGITUDE': 'longitude:float'})\n",
    "df_end = df[['ENDSTATIONNAME', 'ENDSTATIONLATITUDE', 'ENDSTATIONLONGITUDE']].rename(columns={'ENDSTATIONNAME': 'name',\n",
    "                                                                                             'ENDSTATIONLATITUDE': 'latitude:float',\n",
    "                                                                                             'ENDSTATIONLONGITUDE': 'longitude:float'})\n",
    "df_start.head()"
   ]
  },
  {
   "cell_type": "code",
   "execution_count": 4,
   "metadata": {},
   "outputs": [
    {
     "name": "stdout",
     "output_type": "stream",
     "text": [
      "(940, 3)\n"
     ]
    }
   ],
   "source": [
    "nodes = pd.concat([df_start, df_end], ignore_index=True).drop_duplicates()#.dropna()\n",
    "\n",
    "print(nodes.shape)"
   ]
  },
  {
   "cell_type": "code",
   "execution_count": 5,
   "metadata": {},
   "outputs": [],
   "source": [
    "nodes[\"stationId:ID\"] = nodes.index\n",
    "nodes[\":LABEL\"] = \"Station\"\n",
    "nodes = nodes[[\"stationId:ID\", \"name\", \"latitude:float\", \"longitude:float\", \":LABEL\"]]"
   ]
  },
  {
   "cell_type": "code",
   "execution_count": 6,
   "metadata": {},
   "outputs": [
    {
     "data": {
      "text/html": [
       "<div>\n",
       "<style scoped>\n",
       "    .dataframe tbody tr th:only-of-type {\n",
       "        vertical-align: middle;\n",
       "    }\n",
       "\n",
       "    .dataframe tbody tr th {\n",
       "        vertical-align: top;\n",
       "    }\n",
       "\n",
       "    .dataframe thead th {\n",
       "        text-align: right;\n",
       "    }\n",
       "</style>\n",
       "<table border=\"1\" class=\"dataframe\">\n",
       "  <thead>\n",
       "    <tr style=\"text-align: right;\">\n",
       "      <th></th>\n",
       "      <th>stationId:ID</th>\n",
       "      <th>name</th>\n",
       "      <th>latitude:float</th>\n",
       "      <th>longitude:float</th>\n",
       "      <th>:LABEL</th>\n",
       "    </tr>\n",
       "  </thead>\n",
       "  <tbody>\n",
       "    <tr>\n",
       "      <th>0</th>\n",
       "      <td>0</td>\n",
       "      <td>Métro Mont-Royal (Utilités publiques / Rivard)</td>\n",
       "      <td>45.524236</td>\n",
       "      <td>-73.581552</td>\n",
       "      <td>Station</td>\n",
       "    </tr>\n",
       "    <tr>\n",
       "      <th>1</th>\n",
       "      <td>1</td>\n",
       "      <td>Rielle / Wellington</td>\n",
       "      <td>45.460156</td>\n",
       "      <td>-73.567001</td>\n",
       "      <td>Station</td>\n",
       "    </tr>\n",
       "    <tr>\n",
       "      <th>2</th>\n",
       "      <td>2</td>\n",
       "      <td>Ste-Catherine / Drummond</td>\n",
       "      <td>45.498588</td>\n",
       "      <td>-73.574278</td>\n",
       "      <td>Station</td>\n",
       "    </tr>\n",
       "    <tr>\n",
       "      <th>3</th>\n",
       "      <td>3</td>\n",
       "      <td>Boyer / du Mont-Royal</td>\n",
       "      <td>45.527432</td>\n",
       "      <td>-73.579917</td>\n",
       "      <td>Station</td>\n",
       "    </tr>\n",
       "    <tr>\n",
       "      <th>4</th>\n",
       "      <td>4</td>\n",
       "      <td>Clark / Ontario</td>\n",
       "      <td>45.510625</td>\n",
       "      <td>-73.566903</td>\n",
       "      <td>Station</td>\n",
       "    </tr>\n",
       "  </tbody>\n",
       "</table>\n",
       "</div>"
      ],
      "text/plain": [
       "   stationId:ID                                            name  \\\n",
       "0             0  Métro Mont-Royal (Utilités publiques / Rivard)   \n",
       "1             1                             Rielle / Wellington   \n",
       "2             2                        Ste-Catherine / Drummond   \n",
       "3             3                           Boyer / du Mont-Royal   \n",
       "4             4                                 Clark / Ontario   \n",
       "\n",
       "   latitude:float  longitude:float   :LABEL  \n",
       "0       45.524236       -73.581552  Station  \n",
       "1       45.460156       -73.567001  Station  \n",
       "2       45.498588       -73.574278  Station  \n",
       "3       45.527432       -73.579917  Station  \n",
       "4       45.510625       -73.566903  Station  "
      ]
     },
     "execution_count": 6,
     "metadata": {},
     "output_type": "execute_result"
    }
   ],
   "source": [
    "nodes.head()"
   ]
  },
  {
   "cell_type": "code",
   "execution_count": 7,
   "metadata": {},
   "outputs": [],
   "source": [
    "nodes['stationId:ID'] = nodes['stationId:ID'].astype(int)\n",
    "nodes.to_csv(f'{data_folder}/2023_nodes.csv', index=False, header=False)"
   ]
  },
  {
   "cell_type": "code",
   "execution_count": 8,
   "metadata": {},
   "outputs": [],
   "source": [
    "import csv\n",
    "nodes_header = ['stationId:ID','name','latitude:float','longitude:float',':LABEL']\n",
    "with open(f'{data_folder}/2023_nodes_header.csv', 'w', newline='') as csvfile:\n",
    "    writer = csv.writer(csvfile)\n",
    "    writer.writerow(nodes_header)"
   ]
  },
  {
   "cell_type": "markdown",
   "metadata": {},
   "source": [
    "Extract and format edges"
   ]
  },
  {
   "cell_type": "code",
   "execution_count": 9,
   "metadata": {},
   "outputs": [
    {
     "name": "stderr",
     "output_type": "stream",
     "text": [
      "C:\\Users\\lpedu\\AppData\\Local\\Temp\\ipykernel_18348\\554662890.py:18: DeprecationWarning: datetime.datetime.utcfromtimestamp() is deprecated and scheduled for removal in a future version. Use timezone-aware objects to represent datetimes in UTC: datetime.datetime.fromtimestamp(timestamp, datetime.UTC).\n",
      "  to_date = lambda ms: datetime.datetime.utcfromtimestamp(ms/1000).strftime('%Y-%m-%dT%H:%M:%S.%f')\n"
     ]
    },
    {
     "data": {
      "text/html": [
       "<div>\n",
       "<style scoped>\n",
       "    .dataframe tbody tr th:only-of-type {\n",
       "        vertical-align: middle;\n",
       "    }\n",
       "\n",
       "    .dataframe tbody tr th {\n",
       "        vertical-align: top;\n",
       "    }\n",
       "\n",
       "    .dataframe thead th {\n",
       "        text-align: right;\n",
       "    }\n",
       "</style>\n",
       "<table border=\"1\" class=\"dataframe\">\n",
       "  <thead>\n",
       "    <tr style=\"text-align: right;\">\n",
       "      <th></th>\n",
       "      <th>:START_ID</th>\n",
       "      <th>starttimems:int</th>\n",
       "      <th>endtimems:int</th>\n",
       "      <th>:END_ID</th>\n",
       "      <th>start_date:DATETIME</th>\n",
       "      <th>:TYPE</th>\n",
       "    </tr>\n",
       "  </thead>\n",
       "  <tbody>\n",
       "    <tr>\n",
       "      <th>0</th>\n",
       "      <td>0</td>\n",
       "      <td>1698266696468</td>\n",
       "      <td>1.698267e+12</td>\n",
       "      <td>509</td>\n",
       "      <td>2023-10-25T20:44:56.468000</td>\n",
       "      <td>CYCLES_TO</td>\n",
       "    </tr>\n",
       "    <tr>\n",
       "      <th>1</th>\n",
       "      <td>1</td>\n",
       "      <td>1698270535502</td>\n",
       "      <td>1.698272e+12</td>\n",
       "      <td>301</td>\n",
       "      <td>2023-10-25T21:48:55.502000</td>\n",
       "      <td>CYCLES_TO</td>\n",
       "    </tr>\n",
       "    <tr>\n",
       "      <th>2</th>\n",
       "      <td>2</td>\n",
       "      <td>1698285705974</td>\n",
       "      <td>1.698286e+12</td>\n",
       "      <td>471</td>\n",
       "      <td>2023-10-26T02:01:45.974000</td>\n",
       "      <td>CYCLES_TO</td>\n",
       "    </tr>\n",
       "    <tr>\n",
       "      <th>3</th>\n",
       "      <td>3</td>\n",
       "      <td>1698269489932</td>\n",
       "      <td>1.698270e+12</td>\n",
       "      <td>424</td>\n",
       "      <td>2023-10-25T21:31:29.932000</td>\n",
       "      <td>CYCLES_TO</td>\n",
       "    </tr>\n",
       "    <tr>\n",
       "      <th>4</th>\n",
       "      <td>4</td>\n",
       "      <td>1698270006571</td>\n",
       "      <td>1.698270e+12</td>\n",
       "      <td>1641</td>\n",
       "      <td>2023-10-25T21:40:06.571000</td>\n",
       "      <td>CYCLES_TO</td>\n",
       "    </tr>\n",
       "  </tbody>\n",
       "</table>\n",
       "</div>"
      ],
      "text/plain": [
       "   :START_ID  starttimems:int  endtimems:int  :END_ID  \\\n",
       "0          0    1698266696468   1.698267e+12      509   \n",
       "1          1    1698270535502   1.698272e+12      301   \n",
       "2          2    1698285705974   1.698286e+12      471   \n",
       "3          3    1698269489932   1.698270e+12      424   \n",
       "4          4    1698270006571   1.698270e+12     1641   \n",
       "\n",
       "          start_date:DATETIME      :TYPE  \n",
       "0  2023-10-25T20:44:56.468000  CYCLES_TO  \n",
       "1  2023-10-25T21:48:55.502000  CYCLES_TO  \n",
       "2  2023-10-26T02:01:45.974000  CYCLES_TO  \n",
       "3  2023-10-25T21:31:29.932000  CYCLES_TO  \n",
       "4  2023-10-25T21:40:06.571000  CYCLES_TO  "
      ]
     },
     "execution_count": 9,
     "metadata": {},
     "output_type": "execute_result"
    }
   ],
   "source": [
    "# nodes = nodes.drop(columns=[':LABEL'])\n",
    "# nodes.head()\n",
    "import datetime\n",
    "\n",
    "edges = pd.merge(df, nodes,\n",
    "                 left_on=['STARTSTATIONNAME', 'STARTSTATIONLATITUDE', 'STARTSTATIONLONGITUDE'],\n",
    "                 right_on=['name', 'latitude:float', 'longitude:float'], how='left')\n",
    "\n",
    "edges = edges[['ENDSTATIONNAME', 'ENDSTATIONLATITUDE', 'ENDSTATIONLONGITUDE', 'STARTTIMEMS', 'ENDTIMEMS', 'stationId:ID']].rename(columns={'stationId:ID': \":START_ID\"})\n",
    "\n",
    "edges = pd.merge(edges, nodes,\n",
    "                 left_on=['ENDSTATIONNAME', 'ENDSTATIONLATITUDE', 'ENDSTATIONLONGITUDE'], \n",
    "                 right_on=['name', 'latitude:float', 'longitude:float'], how='left')\n",
    "# edges.head()\n",
    "edges = edges[[':START_ID', 'STARTTIMEMS', 'ENDTIMEMS', 'stationId:ID']].rename(columns={'stationId:ID': \":END_ID\", 'STARTTIMEMS':'starttimems:int', 'ENDTIMEMS':'endtimems:int'})\n",
    "\n",
    "\n",
    "to_date = lambda ms: datetime.datetime.utcfromtimestamp(ms/1000).strftime('%Y-%m-%dT%H:%M:%S.%f')\n",
    "edges['start_date:DATETIME'] = edges['starttimems:int'].apply(to_date)\n",
    "edges = edges.dropna()\n",
    "edges[\":TYPE\"] = \"CYCLES_TO\"\n",
    "edges.head()"
   ]
  },
  {
   "cell_type": "markdown",
   "metadata": {},
   "source": [
    "Aggregate per x time"
   ]
  },
  {
   "cell_type": "code",
   "execution_count": null,
   "metadata": {},
   "outputs": [],
   "source": [
    "if time_aggregation > 0:\n",
    "    df.groupby('category').size().reset_index(name='count')\n",
    "    edges['starttimems:int'] = edges['starttimems:int'] // (time_aggregation * 60 * 1000)\n",
    "    edges['endtimems:int'] = edges['endtimems:int'] // (time_aggregation * 60 * 1000)"
   ]
  },
  {
   "cell_type": "code",
   "execution_count": 10,
   "metadata": {},
   "outputs": [
    {
     "name": "stdout",
     "output_type": "stream",
     "text": [
      ":START_ID                int32\n",
      "starttimems:int          int64\n",
      "endtimems:int          float64\n",
      ":END_ID                  int32\n",
      "start_date:DATETIME     object\n",
      ":TYPE                   object\n",
      "dtype: object\n"
     ]
    }
   ],
   "source": [
    "print(edges.dtypes)"
   ]
  },
  {
   "cell_type": "code",
   "execution_count": 11,
   "metadata": {},
   "outputs": [],
   "source": [
    "# dtype_mapping = {':START_ID': int, 'starttimems':int, 'endtimems':int, ':END_ID':int, ':TYPE':str}\n",
    "# edges = pd.DataFrame(edges, dtype=dtype_mapping)\n",
    "edges[':START_ID'] = edges[':START_ID'].astype('int64')\n",
    "edges[':END_ID'] = edges[':END_ID'].astype('int64')\n",
    "edges['starttimems:int'] = edges['starttimems:int'].astype('int64')\n",
    "edges['endtimems:int'] = edges['endtimems:int'].astype('int64')\n",
    "edges.to_csv(f'{data_folder}/2023_edges.csv', index=False, header=False)"
   ]
  },
  {
   "cell_type": "code",
   "execution_count": 12,
   "metadata": {},
   "outputs": [],
   "source": [
    "edges_header = [':START_ID','starttimems:int','endtimems:int',':END_ID','start_date:DATETIME',':TYPE']\n",
    "with open(f'{data_folder}/2023_edges_header.csv', 'w', newline='') as csvfile:\n",
    "    writer = csv.writer(csvfile)\n",
    "    writer.writerow(edges_header)"
   ]
  },
  {
   "cell_type": "code",
   "execution_count": 13,
   "metadata": {},
   "outputs": [
    {
     "data": {
      "text/html": [
       "<div>\n",
       "<style scoped>\n",
       "    .dataframe tbody tr th:only-of-type {\n",
       "        vertical-align: middle;\n",
       "    }\n",
       "\n",
       "    .dataframe tbody tr th {\n",
       "        vertical-align: top;\n",
       "    }\n",
       "\n",
       "    .dataframe thead th {\n",
       "        text-align: right;\n",
       "    }\n",
       "</style>\n",
       "<table border=\"1\" class=\"dataframe\">\n",
       "  <thead>\n",
       "    <tr style=\"text-align: right;\">\n",
       "      <th></th>\n",
       "      <th>:START_ID</th>\n",
       "      <th>starttimems:int</th>\n",
       "      <th>endtimems:int</th>\n",
       "      <th>:END_ID</th>\n",
       "      <th>start_date:DATETIME</th>\n",
       "      <th>:TYPE</th>\n",
       "    </tr>\n",
       "  </thead>\n",
       "  <tbody>\n",
       "    <tr>\n",
       "      <th>0</th>\n",
       "      <td>0</td>\n",
       "      <td>1698266696468</td>\n",
       "      <td>1698267092113</td>\n",
       "      <td>509</td>\n",
       "      <td>2023-10-25T20:44:56.468000</td>\n",
       "      <td>CYCLES_TO</td>\n",
       "    </tr>\n",
       "    <tr>\n",
       "      <th>1</th>\n",
       "      <td>1</td>\n",
       "      <td>1698270535502</td>\n",
       "      <td>1698271967951</td>\n",
       "      <td>301</td>\n",
       "      <td>2023-10-25T21:48:55.502000</td>\n",
       "      <td>CYCLES_TO</td>\n",
       "    </tr>\n",
       "    <tr>\n",
       "      <th>2</th>\n",
       "      <td>2</td>\n",
       "      <td>1698285705974</td>\n",
       "      <td>1698285992418</td>\n",
       "      <td>471</td>\n",
       "      <td>2023-10-26T02:01:45.974000</td>\n",
       "      <td>CYCLES_TO</td>\n",
       "    </tr>\n",
       "    <tr>\n",
       "      <th>3</th>\n",
       "      <td>3</td>\n",
       "      <td>1698269489932</td>\n",
       "      <td>1698269814383</td>\n",
       "      <td>424</td>\n",
       "      <td>2023-10-25T21:31:29.932000</td>\n",
       "      <td>CYCLES_TO</td>\n",
       "    </tr>\n",
       "    <tr>\n",
       "      <th>4</th>\n",
       "      <td>4</td>\n",
       "      <td>1698270006571</td>\n",
       "      <td>1698270440298</td>\n",
       "      <td>1641</td>\n",
       "      <td>2023-10-25T21:40:06.571000</td>\n",
       "      <td>CYCLES_TO</td>\n",
       "    </tr>\n",
       "  </tbody>\n",
       "</table>\n",
       "</div>"
      ],
      "text/plain": [
       "   :START_ID  starttimems:int  endtimems:int  :END_ID  \\\n",
       "0          0    1698266696468  1698267092113      509   \n",
       "1          1    1698270535502  1698271967951      301   \n",
       "2          2    1698285705974  1698285992418      471   \n",
       "3          3    1698269489932  1698269814383      424   \n",
       "4          4    1698270006571  1698270440298     1641   \n",
       "\n",
       "          start_date:DATETIME      :TYPE  \n",
       "0  2023-10-25T20:44:56.468000  CYCLES_TO  \n",
       "1  2023-10-25T21:48:55.502000  CYCLES_TO  \n",
       "2  2023-10-26T02:01:45.974000  CYCLES_TO  \n",
       "3  2023-10-25T21:31:29.932000  CYCLES_TO  \n",
       "4  2023-10-25T21:40:06.571000  CYCLES_TO  "
      ]
     },
     "execution_count": 13,
     "metadata": {},
     "output_type": "execute_result"
    }
   ],
   "source": [
    "edges.head()"
   ]
  },
  {
   "cell_type": "code",
   "execution_count": 14,
   "metadata": {},
   "outputs": [
    {
     "name": "stdout",
     "output_type": "stream",
     "text": [
      "(11790840, 10) vs. (11730062, 6)\n"
     ]
    }
   ],
   "source": [
    "print(df.shape, \"vs.\", edges.shape)"
   ]
  }
 ],
 "metadata": {
  "kernelspec": {
   "display_name": ".venv",
   "language": "python",
   "name": "python3"
  },
  "language_info": {
   "codemirror_mode": {
    "name": "ipython",
    "version": 3
   },
   "file_extension": ".py",
   "mimetype": "text/x-python",
   "name": "python",
   "nbconvert_exporter": "python",
   "pygments_lexer": "ipython3",
   "version": "3.11.5"
  }
 },
 "nbformat": 4,
 "nbformat_minor": 2
}
